{
  "nbformat": 4,
  "nbformat_minor": 0,
  "metadata": {
    "colab": {
      "provenance": []
    },
    "kernelspec": {
      "name": "python3",
      "display_name": "Python 3"
    },
    "language_info": {
      "name": "python"
    }
  },
  "cells": [
    {
      "cell_type": "code",
      "execution_count": 94,
      "metadata": {
        "id": "_SzW0Fr_loUU"
      },
      "outputs": [],
      "source": [
        "from keras.datasets import mnist\n",
        "from keras.utils import np_utils\n",
        "import matplotlib.pyplot as plt\n",
        "%matplotlib inline\n",
        "import numpy as np\n",
        "\n",
        "(X_train, y_train), (X_test, y_test) = mnist.load_data()"
      ]
    },
    {
      "cell_type": "code",
      "source": [
        "print(X_train[1].shape)"
      ],
      "metadata": {
        "colab": {
          "base_uri": "https://localhost:8080/"
        },
        "id": "jnUKeoCjmi8S",
        "outputId": "7aa5eec6-43f2-44da-9b7a-984f1da98cca"
      },
      "execution_count": 95,
      "outputs": [
        {
          "output_type": "stream",
          "name": "stdout",
          "text": [
            "(28, 28)\n"
          ]
        }
      ]
    },
    {
      "cell_type": "code",
      "source": [
        "print(X_train.shape)\n",
        "print(y_train.shape)\n",
        "print(X_test.shape)\n",
        "print(y_test.shape)"
      ],
      "metadata": {
        "colab": {
          "base_uri": "https://localhost:8080/"
        },
        "id": "rzn7INfX-gkT",
        "outputId": "18b173c2-64af-46db-8643-02507355e80c"
      },
      "execution_count": 96,
      "outputs": [
        {
          "output_type": "stream",
          "name": "stdout",
          "text": [
            "(60000, 28, 28)\n",
            "(60000,)\n",
            "(10000, 28, 28)\n",
            "(10000,)\n"
          ]
        }
      ]
    },
    {
      "cell_type": "code",
      "source": [
        "print(\"Number of training examples :\", X_train.shape[0], \"and each image is of shape (%d, %d)\"%(X_train.shape[1], X_train.shape[2]))\n",
        "print(\"Number of training examples :\", X_test.shape[0], \"and each image is of shape (%d, %d)\"%(X_test.shape[1], X_test.shape[2]))"
      ],
      "metadata": {
        "colab": {
          "base_uri": "https://localhost:8080/"
        },
        "id": "nvqRpcCj-1oq",
        "outputId": "d428dd93-7457-4d9c-b05d-554e5b3969d4"
      },
      "execution_count": 97,
      "outputs": [
        {
          "output_type": "stream",
          "name": "stdout",
          "text": [
            "Number of training examples : 60000 and each image is of shape (28, 28)\n",
            "Number of training examples : 10000 and each image is of shape (28, 28)\n"
          ]
        }
      ]
    },
    {
      "cell_type": "code",
      "source": [
        "for i in range(9):\n",
        " plt.subplot(330 + 1 + i)\n",
        " plt.imshow(X_train[i], cmap=plt.get_cmap('gray'))\n",
        "plt.show()"
      ],
      "metadata": {
        "colab": {
          "base_uri": "https://localhost:8080/",
          "height": 433
        },
        "id": "jSvpFH1J_hzD",
        "outputId": "b7ed3091-3b19-48c7-9f7c-a9422bb14e1b"
      },
      "execution_count": 98,
      "outputs": [
        {
          "output_type": "display_data",
          "data": {
            "text/plain": [
              "<Figure size 640x480 with 9 Axes>"
            ],
            "image/png": "[encoded data removed]"
          },
          "metadata": {}
        }
      ]
    },
    {
      "cell_type": "code",
      "source": [
        "X_train = X_train.reshape(X_train.shape[0], X_train.shape[1]*X_train.shape[2]) #so that it can be formatted in a way that machine can understand\n",
        "X_test = X_test.reshape(X_test.shape[0], X_test.shape[1]*X_test.shape[2])"
      ],
      "metadata": {
        "id": "OkIGiBaP_sqw"
      },
      "execution_count": 51,
      "outputs": []
    },
    {
      "cell_type": "code",
      "source": [
        "\n",
        "print(X_train.shape)\n",
        "print(X_test.shape)\n",
        "\n",
        "print(X_train[0])"
      ],
      "metadata": {
        "colab": {
          "base_uri": "https://localhost:8080/"
        },
        "id": "1QoGFQ6p_vM2",
        "outputId": "92508a37-7005-4abd-c424-de8a1b874634"
      },
      "execution_count": 52,
      "outputs": [
        {
          "output_type": "stream",
          "name": "stdout",
          "text": [
            "(60000, 784)\n",
            "(10000, 784)\n",
            "[  0   0   0   0   0   0   0   0   0   0   0   0   0   0   0   0   0   0\n",
            "   0   0   0   0   0   0   0   0   0   0   0   0   0   0   0   0   0   0\n",
            "   0   0   0   0   0   0   0   0   0   0   0   0   0   0   0   0   0   0\n",
            "   0   0   0   0   0   0   0   0   0   0   0   0   0   0   0   0   0   0\n",
            "   0   0   0   0   0   0   0   0   0   0   0   0   0   0   0   0   0   0\n",
            "   0   0   0   0   0   0   0   0   0   0   0   0   0   0   0   0   0   0\n",
            "   0   0   0   0   0   0   0   0   0   0   0   0   0   0   0   0   0   0\n",
            "   0   0   0   0   0   0   0   0   0   0   0   0   0   0   0   0   0   0\n",
            "   0   0   0   0   0   0   0   0   3  18  18  18 126 136 175  26 166 255\n",
            " 247 127   0   0   0   0   0   0   0   0   0   0   0   0  30  36  94 154\n",
            " 170 253 253 253 253 253 225 172 253 242 195  64   0   0   0   0   0   0\n",
            "   0   0   0   0   0  49 238 253 253 253 253 253 253 253 253 251  93  82\n",
            "  82  56  39   0   0   0   0   0   0   0   0   0   0   0   0  18 219 253\n",
            " 253 253 253 253 198 182 247 241   0   0   0   0   0   0   0   0   0   0\n",
            "   0   0   0   0   0   0   0   0  80 156 107 253 253 205  11   0  43 154\n",
            "   0   0   0   0   0   0   0   0   0   0   0   0   0   0   0   0   0   0\n",
            "   0  14   1 154 253  90   0   0   0   0   0   0   0   0   0   0   0   0\n",
            "   0   0   0   0   0   0   0   0   0   0   0   0   0 139 253 190   2   0\n",
            "   0   0   0   0   0   0   0   0   0   0   0   0   0   0   0   0   0   0\n",
            "   0   0   0   0   0  11 190 253  70   0   0   0   0   0   0   0   0   0\n",
            "   0   0   0   0   0   0   0   0   0   0   0   0   0   0   0   0  35 241\n",
            " 225 160 108   1   0   0   0   0   0   0   0   0   0   0   0   0   0   0\n",
            "   0   0   0   0   0   0   0   0   0  81 240 253 253 119  25   0   0   0\n",
            "   0   0   0   0   0   0   0   0   0   0   0   0   0   0   0   0   0   0\n",
            "   0   0  45 186 253 253 150  27   0   0   0   0   0   0   0   0   0   0\n",
            "   0   0   0   0   0   0   0   0   0   0   0   0   0  16  93 252 253 187\n",
            "   0   0   0   0   0   0   0   0   0   0   0   0   0   0   0   0   0   0\n",
            "   0   0   0   0   0   0   0 249 253 249  64   0   0   0   0   0   0   0\n",
            "   0   0   0   0   0   0   0   0   0   0   0   0   0   0  46 130 183 253\n",
            " 253 207   2   0   0   0   0   0   0   0   0   0   0   0   0   0   0   0\n",
            "   0   0   0   0  39 148 229 253 253 253 250 182   0   0   0   0   0   0\n",
            "   0   0   0   0   0   0   0   0   0   0   0   0  24 114 221 253 253 253\n",
            " 253 201  78   0   0   0   0   0   0   0   0   0   0   0   0   0   0   0\n",
            "   0   0  23  66 213 253 253 253 253 198  81   2   0   0   0   0   0   0\n",
            "   0   0   0   0   0   0   0   0   0   0  18 171 219 253 253 253 253 195\n",
            "  80   9   0   0   0   0   0   0   0   0   0   0   0   0   0   0   0   0\n",
            "  55 172 226 253 253 253 253 244 133  11   0   0   0   0   0   0   0   0\n",
            "   0   0   0   0   0   0   0   0   0   0 136 253 253 253 212 135 132  16\n",
            "   0   0   0   0   0   0   0   0   0   0   0   0   0   0   0   0   0   0\n",
            "   0   0   0   0   0   0   0   0   0   0   0   0   0   0   0   0   0   0\n",
            "   0   0   0   0   0   0   0   0   0   0   0   0   0   0   0   0   0   0\n",
            "   0   0   0   0   0   0   0   0   0   0   0   0   0   0   0   0   0   0\n",
            "   0   0   0   0   0   0   0   0   0   0   0   0   0   0   0   0   0   0\n",
            "   0   0   0   0   0   0   0   0   0   0]\n"
          ]
        }
      ]
    },
    {
      "cell_type": "code",
      "source": [
        "#to normalise the pixel values\n",
        "X_train = X_train/255\n",
        "X_test = X_test/255"
      ],
      "metadata": {
        "id": "1DKYn3J2Ac02"
      },
      "execution_count": 54,
      "outputs": []
    },
    {
      "cell_type": "code",
      "source": [
        "print(X_train[0])"
      ],
      "metadata": {
        "id": "G-cQjTaIAqNN"
      },
      "execution_count": null,
      "outputs": []
    },
    {
      "cell_type": "code",
      "source": [
        "print(\"Class label of first image :\", y_train[0])"
      ],
      "metadata": {
        "colab": {
          "base_uri": "https://localhost:8080/"
        },
        "id": "CyY_V0MjAtmf",
        "outputId": "12a35428-8748-495b-ff7d-b8ab49df2499"
      },
      "execution_count": 56,
      "outputs": [
        {
          "output_type": "stream",
          "name": "stdout",
          "text": [
            "Class label of first image : 5\n"
          ]
        }
      ]
    },
    {
      "cell_type": "code",
      "source": [
        "#transforming int to binary vector(one hot)\n",
        "Y_train = np_utils.to_categorical(y_train, 10)\n",
        "Y_test = np_utils.to_categorical(y_test, 10)"
      ],
      "metadata": {
        "id": "CjZoYHkHAy7r"
      },
      "execution_count": 57,
      "outputs": []
    },
    {
      "cell_type": "code",
      "source": [
        "print(\"After converting the output into a vector : \",Y_train[0])"
      ],
      "metadata": {
        "colab": {
          "base_uri": "https://localhost:8080/"
        },
        "id": "MfpFCCC1A27Q",
        "outputId": "1e0fce5a-c39b-49c1-a6d4-a0a91dd10450"
      },
      "execution_count": 58,
      "outputs": [
        {
          "output_type": "stream",
          "name": "stdout",
          "text": [
            "After converting the output into a vector :  [0. 0. 0. 0. 0. 1. 0. 0. 0. 0.]\n"
          ]
        }
      ]
    },
    {
      "cell_type": "code",
      "source": [
        "from keras.models import Sequential#help to stack layers\n",
        "from keras.layers import Dense, Activation,BatchNormalization#prevent overfitting\n",
        "from tensorflow.keras.optimizers import Adam #improve the accuracy of neural net"
      ],
      "metadata": {
        "id": "f17flMqHA7PX"
      },
      "execution_count": 74,
      "outputs": []
    },
    {
      "cell_type": "code",
      "source": [
        "model1 = Sequential()\n",
        "model1.add(Activation('sigmoid'))\n",
        "model1.add(Activation('softmax'))\n",
        "\n",
        "model1.compile(loss='categorical_crossentropy', optimizer=Adam(), metrics=['accuracy'])"
      ],
      "metadata": {
        "id": "dn5hVJtAWcKO"
      },
      "execution_count": 103,
      "outputs": []
    },
    {
      "cell_type": "code",
      "source": [
        "model2 = Sequential()\n",
        "model2.add(Dense(64, input_shape=(784,)))\n",
        "model2.add(Activation('relu'))\n",
        "model2.add(Dense(10))\n",
        "model2.add(Activation('softmax'))\n",
        "\n",
        "model2.compile(loss='categorical_crossentropy', optimizer=Adam(), metrics=['accuracy'])"
      ],
      "metadata": {
        "id": "fV0T9jdmWk4X"
      },
      "execution_count": 100,
      "outputs": []
    },
    {
      "cell_type": "code",
      "source": [
        "model3 = Sequential()\n",
        "model3.add(Dense(64, input_shape=(784,)))\n",
        "model3.add(Activation('sigmoid'))\n",
        "model3.add(BatchNormalization())\n",
        "model3.add(Dense(10))\n",
        "model3.add(Activation('softmax'))\n",
        "\n",
        "model3.compile(loss='categorical_crossentropy', optimizer=Adam(), metrics=['accuracy'])"
      ],
      "metadata": {
        "id": "7StPKY_gWnww"
      },
      "execution_count": 101,
      "outputs": []
    },
    {
      "cell_type": "code",
      "source": [
        "model1.summary()\n",
        "model2.summary()\n",
        "model3.summary()"
      ],
      "metadata": {
        "colab": {
          "base_uri": "https://localhost:8080/"
        },
        "id": "z_Yg6pM-WsL7",
        "outputId": "14584b8a-3218-4a1b-b287-e6ae3d0f7948"
      },
      "execution_count": 102,
      "outputs": [
        {
          "output_type": "stream",
          "name": "stdout",
          "text": [
            "Model: \"sequential_20\"\n",
            "_________________________________________________________________\n",
            " Layer (type)                Output Shape              Param #   \n",
            "=================================================================\n",
            " dense_28 (Dense)            (None, 64)                50240     \n",
            "                                                                 \n",
            " activation_22 (Activation)  (None, 64)                0         \n",
            "                                                                 \n",
            " dense_29 (Dense)            (None, 10)                650       \n",
            "                                                                 \n",
            " activation_23 (Activation)  (None, 10)                0         \n",
            "                                                                 \n",
            "=================================================================\n",
            "Total params: 50,890\n",
            "Trainable params: 50,890\n",
            "Non-trainable params: 0\n",
            "_________________________________________________________________\n",
            "Model: \"sequential_21\"\n",
            "_________________________________________________________________\n",
            " Layer (type)                Output Shape              Param #   \n",
            "=================================================================\n",
            " dense_30 (Dense)            (None, 64)                50240     \n",
            "                                                                 \n",
            " activation_24 (Activation)  (None, 64)                0         \n",
            "                                                                 \n",
            " dense_31 (Dense)            (None, 10)                650       \n",
            "                                                                 \n",
            " activation_25 (Activation)  (None, 10)                0         \n",
            "                                                                 \n",
            "=================================================================\n",
            "Total params: 50,890\n",
            "Trainable params: 50,890\n",
            "Non-trainable params: 0\n",
            "_________________________________________________________________\n",
            "Model: \"sequential_22\"\n",
            "_________________________________________________________________\n",
            " Layer (type)                Output Shape              Param #   \n",
            "=================================================================\n",
            " dense_32 (Dense)            (None, 64)                50240     \n",
            "                                                                 \n",
            " activation_26 (Activation)  (None, 64)                0         \n",
            "                                                                 \n",
            " batch_normalization_3 (Batc  (None, 64)               256       \n",
            " hNormalization)                                                 \n",
            "                                                                 \n",
            " dense_33 (Dense)            (None, 10)                650       \n",
            "                                                                 \n",
            " activation_27 (Activation)  (None, 10)                0         \n",
            "                                                                 \n",
            "=================================================================\n",
            "Total params: 51,146\n",
            "Trainable params: 51,018\n",
            "Non-trainable params: 128\n",
            "_________________________________________________________________\n"
          ]
        }
      ]
    },
    {
      "cell_type": "code",
      "source": [
        "model1.fit(X_train, Y_train, batch_size=128, epochs=10, validation_data=(X_test, Y_test))\n",
        "score1 = model1.evaluate(X_test, Y_test, verbose=0)\n",
        "print(\"Model 1 Test Loss:\", score1[0])\n",
        "print(\"Model 1 Test Accuracy:\", score1[1])\n",
        "\n",
        "# Train and evaluate model2\n",
        "model2.fit(X_train, Y_train, batch_size=128, epochs=10, validation_data=(X_test, Y_test))\n",
        "score2 = model2.evaluate(X_test, Y_test, verbose=0)\n",
        "print(\"Model 2 Test Loss:\", score2[0])\n",
        "print(\"Model 2 Test Accuracy:\", score2[1])\n",
        "\n",
        "# Train and evaluate model3\n",
        "model3.fit(X_train, Y_train, batch_size=128, epochs=10, validation_data=(X_test, Y_test))\n",
        "score3 = model3.evaluate(X_test, Y_test, verbose=0)\n",
        "print(\"Model 3 Test Loss:\", score3[0])\n",
        "print(\"Model 3 Test Accuracy:\", score3[1])"
      ],
      "metadata": {
        "colab": {
          "base_uri": "https://localhost:8080/"
        },
        "id": "BND5jgPGW0N3",
        "outputId": "a26d7211-17b7-45ac-bb9c-b89fd00a2b52"
      },
      "execution_count": 89,
      "outputs": [
        {
          "output_type": "stream",
          "name": "stdout",
          "text": [
            "Epoch 1/10\n",
            "469/469 [==============================] - 3s 6ms/step - loss: 0.1057 - accuracy: 0.9706 - val_loss: 0.1234 - val_accuracy: 0.9633\n",
            "Epoch 2/10\n",
            "469/469 [==============================] - 2s 5ms/step - loss: 0.0981 - accuracy: 0.9735 - val_loss: 0.1184 - val_accuracy: 0.9647\n",
            "Epoch 3/10\n",
            "469/469 [==============================] - 2s 4ms/step - loss: 0.0913 - accuracy: 0.9754 - val_loss: 0.1132 - val_accuracy: 0.9667\n",
            "Epoch 4/10\n",
            "469/469 [==============================] - 3s 6ms/step - loss: 0.0853 - accuracy: 0.9770 - val_loss: 0.1097 - val_accuracy: 0.9670\n",
            "Epoch 5/10\n",
            "469/469 [==============================] - 2s 5ms/step - loss: 0.0799 - accuracy: 0.9782 - val_loss: 0.1073 - val_accuracy: 0.9676\n",
            "Epoch 6/10\n",
            "469/469 [==============================] - 2s 4ms/step - loss: 0.0750 - accuracy: 0.9797 - val_loss: 0.1053 - val_accuracy: 0.9682\n",
            "Epoch 7/10\n",
            "469/469 [==============================] - 2s 5ms/step - loss: 0.0699 - accuracy: 0.9816 - val_loss: 0.1014 - val_accuracy: 0.9692\n",
            "Epoch 8/10\n",
            "469/469 [==============================] - 2s 5ms/step - loss: 0.0656 - accuracy: 0.9828 - val_loss: 0.0996 - val_accuracy: 0.9684\n",
            "Epoch 9/10\n",
            "469/469 [==============================] - 3s 5ms/step - loss: 0.0619 - accuracy: 0.9837 - val_loss: 0.1002 - val_accuracy: 0.9695\n",
            "Epoch 10/10\n",
            "469/469 [==============================] - 3s 7ms/step - loss: 0.0583 - accuracy: 0.9852 - val_loss: 0.0987 - val_accuracy: 0.9697\n",
            "Model 1 Test Loss: 0.09873055666685104\n",
            "Model 1 Test Accuracy: 0.9696999788284302\n",
            "Epoch 1/10\n",
            "469/469 [==============================] - 3s 5ms/step - loss: 0.4286 - accuracy: 0.8831 - val_loss: 0.2531 - val_accuracy: 0.9269\n",
            "Epoch 2/10\n",
            "469/469 [==============================] - 3s 7ms/step - loss: 0.2134 - accuracy: 0.9393 - val_loss: 0.1821 - val_accuracy: 0.9459\n",
            "Epoch 3/10\n",
            "469/469 [==============================] - 2s 5ms/step - loss: 0.1661 - accuracy: 0.9529 - val_loss: 0.1542 - val_accuracy: 0.9533\n",
            "Epoch 4/10\n",
            "469/469 [==============================] - 2s 4ms/step - loss: 0.1359 - accuracy: 0.9605 - val_loss: 0.1301 - val_accuracy: 0.9621\n",
            "Epoch 5/10\n",
            "469/469 [==============================] - 2s 5ms/step - loss: 0.1132 - accuracy: 0.9675 - val_loss: 0.1189 - val_accuracy: 0.9646\n",
            "Epoch 6/10\n",
            "469/469 [==============================] - 2s 4ms/step - loss: 0.0975 - accuracy: 0.9721 - val_loss: 0.1146 - val_accuracy: 0.9655\n",
            "Epoch 7/10\n",
            "469/469 [==============================] - 2s 4ms/step - loss: 0.0851 - accuracy: 0.9758 - val_loss: 0.0983 - val_accuracy: 0.9711\n",
            "Epoch 8/10\n",
            "469/469 [==============================] - 3s 6ms/step - loss: 0.0748 - accuracy: 0.9789 - val_loss: 0.0967 - val_accuracy: 0.9699\n",
            "Epoch 9/10\n",
            "469/469 [==============================] - 2s 5ms/step - loss: 0.0661 - accuracy: 0.9810 - val_loss: 0.0926 - val_accuracy: 0.9706\n",
            "Epoch 10/10\n",
            "469/469 [==============================] - 2s 5ms/step - loss: 0.0597 - accuracy: 0.9829 - val_loss: 0.0912 - val_accuracy: 0.9709\n",
            "Model 2 Test Loss: 0.09115264564752579\n",
            "Model 2 Test Accuracy: 0.9708999991416931\n",
            "Epoch 1/10\n",
            "469/469 [==============================] - 4s 6ms/step - loss: 0.4006 - accuracy: 0.8827 - val_loss: 0.3020 - val_accuracy: 0.9157\n",
            "Epoch 2/10\n",
            "469/469 [==============================] - 3s 6ms/step - loss: 0.3039 - accuracy: 0.9137 - val_loss: 0.2838 - val_accuracy: 0.9205\n",
            "Epoch 3/10\n",
            "469/469 [==============================] - 3s 6ms/step - loss: 0.2883 - accuracy: 0.9187 - val_loss: 0.2795 - val_accuracy: 0.9216\n",
            "Epoch 4/10\n",
            "469/469 [==============================] - 3s 7ms/step - loss: 0.2810 - accuracy: 0.9202 - val_loss: 0.2739 - val_accuracy: 0.9238\n",
            "Epoch 5/10\n",
            "469/469 [==============================] - 3s 6ms/step - loss: 0.2747 - accuracy: 0.9221 - val_loss: 0.2850 - val_accuracy: 0.9187\n",
            "Epoch 6/10\n",
            "469/469 [==============================] - 3s 6ms/step - loss: 0.2726 - accuracy: 0.9227 - val_loss: 0.2703 - val_accuracy: 0.9233\n",
            "Epoch 7/10\n",
            "469/469 [==============================] - 2s 5ms/step - loss: 0.2675 - accuracy: 0.9245 - val_loss: 0.2783 - val_accuracy: 0.9222\n",
            "Epoch 8/10\n",
            "469/469 [==============================] - 3s 6ms/step - loss: 0.2657 - accuracy: 0.9254 - val_loss: 0.2732 - val_accuracy: 0.9250\n",
            "Epoch 9/10\n",
            "469/469 [==============================] - 3s 7ms/step - loss: 0.2652 - accuracy: 0.9248 - val_loss: 0.2730 - val_accuracy: 0.9227\n",
            "Epoch 10/10\n",
            "469/469 [==============================] - 2s 5ms/step - loss: 0.2603 - accuracy: 0.9272 - val_loss: 0.2781 - val_accuracy: 0.9244\n",
            "Model 3 Test Loss: 0.2781279683113098\n",
            "Model 3 Test Accuracy: 0.9243999719619751\n"
          ]
        }
      ]
    },
    {
      "cell_type": "code",
      "source": [
        "image_index = 120\n",
        "plt.imshow(X_test[image_index].reshape(28, 28),cmap='Greys')\n",
        "pred = model2.predict(X_test)\n",
        "print(pred[image_index])\n",
        "print(np.argmax(pred[image_index]))"
      ],
      "metadata": {
        "colab": {
          "base_uri": "https://localhost:8080/",
          "height": 499
        },
        "id": "O2v1coTcB5lM",
        "outputId": "21862536-e050-4bbf-9f57-b115ce84b5cd"
      },
      "execution_count": 83,
      "outputs": [
        {
          "output_type": "stream",
          "name": "stdout",
          "text": [
            "313/313 [==============================] - 1s 1ms/step\n",
            "[3.4330433e-12 4.5981343e-09 1.3622004e-10 1.9582063e-04 7.6008800e-12\n",
            " 9.9978781e-01 2.3661354e-13 1.9288224e-11 3.7713261e-07 1.6030002e-05]\n",
            "5\n"
          ]
        },
        {
          "output_type": "display_data",
          "data": {
            "text/plain": [
              "<Figure size 640x480 with 1 Axes>"
            ],
            "image/png": "[encoded data removed]"
          },
          "metadata": {}
        }
      ]
    },
    {
      "cell_type": "code",
      "source": [
        "image_index = 120\n",
        "plt.imshow(X_test[image_index].reshape(28, 28),cmap='Greys')\n",
        "pred = model3.predict(X_test)\n",
        "print(pred[image_index])\n",
        "print(np.argmax(pred[image_index]))"
      ],
      "metadata": {
        "colab": {
          "base_uri": "https://localhost:8080/",
          "height": 499
        },
        "id": "GyUzkW99CcrY",
        "outputId": "7352ee2b-6c32-411b-d322-11889be719c5"
      },
      "execution_count": 81,
      "outputs": [
        {
          "output_type": "stream",
          "name": "stdout",
          "text": [
            "313/313 [==============================] - 1s 2ms/step\n",
            "[1.0342291e-09 1.4828974e-10 7.1185596e-08 1.5386944e-05 2.0293561e-10\n",
            " 9.9985886e-01 3.1435693e-08 4.4056250e-10 7.7840719e-05 4.7929436e-05]\n",
            "5\n"
          ]
        },
        {
          "output_type": "display_data",
          "data": {
            "text/plain": [
              "<Figure size 640x480 with 1 Axes>"
            ],
            "image/png": "[encoded data removed]"
          },
          "metadata": {}
        }
      ]
    },
    {
      "cell_type": "code",
      "source": [
        "image_index = 120\n",
        "plt.imshow(X_test[image_index].reshape(28, 28),cmap='Greys')\n",
        "pred = model3.predict(X_test)\n",
        "print(pred[image_index])\n",
        "print(np.argmax(pred[image_index]))"
      ],
      "metadata": {
        "colab": {
          "base_uri": "https://localhost:8080/",
          "height": 499
        },
        "id": "rHwIfXShGo1c",
        "outputId": "2eea4ad1-b747-448e-c20d-c9363bfe41d8"
      },
      "execution_count": 82,
      "outputs": [
        {
          "output_type": "stream",
          "name": "stdout",
          "text": [
            "313/313 [==============================] - 1s 2ms/step\n",
            "[1.0342291e-09 1.4828974e-10 7.1185596e-08 1.5386944e-05 2.0293561e-10\n",
            " 9.9985886e-01 3.1435693e-08 4.4056250e-10 7.7840719e-05 4.7929436e-05]\n",
            "5\n"
          ]
        },
        {
          "output_type": "display_data",
          "data": {
            "text/plain": [
              "<Figure size 640x480 with 1 Axes>"
            ],
            "image/png": "[encoded data removed]"
          },
          "metadata": {}
        }
      ]
    }
  ]
}